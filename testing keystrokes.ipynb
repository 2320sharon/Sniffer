{
 "cells": [
  {
   "cell_type": "code",
   "execution_count": 1,
   "id": "188e6686",
   "metadata": {},
   "outputs": [],
   "source": [
    "import pynput"
   ]
  },
  {
   "cell_type": "code",
   "execution_count": 8,
   "id": "7b03d717",
   "metadata": {},
   "outputs": [
    {
     "name": "stdout",
     "output_type": "stream",
     "text": [
      "special key Key.shift pressed\n",
      "special key Key.shift pressedspecial key Key.shift pressed\n",
      "\n",
      "special key Key.enter pressed\n",
      "special key Key.enter pressed\n",
      "special key Key.enter pressed\n",
      "Key.enter released\n",
      "Key.enter released\n",
      "Key.enter released\n",
      "Key.enter released\n",
      "Key.shift released\n",
      "Key.shift released\n",
      "Key.shift released\n",
      "Key.shift released\n",
      "alphanumeric key y pressed\n",
      "alphanumeric key y pressedalphanumeric key y pressed\n",
      "alphanumeric key y pressed\n",
      "\n",
      "'y' released\n",
      "'y' released'y' released\n",
      "'y' released\n",
      "\n",
      "alphanumeric key y pressed\n",
      "alphanumeric key y pressedalphanumeric key y pressed\n",
      "\n",
      "alphanumeric key y pressed\n",
      "'y' released\n",
      "'y' released\n",
      "'y' released\n",
      "'y' released\n"
     ]
    }
   ],
   "source": [
    "from pynput import keyboard\n",
    "\n",
    "COMBINATIONS = [\n",
    "    {keyboard.KeyCode(char='a')}, # a == yes\n",
    "    {keyboard.KeyCode(char='d')}, # d == no\n",
    "    {keyboard.KeyCode(char='s')}, # s == undo\n",
    "]\n",
    "\n",
    "def on_yes_press():\n",
    "    print(\"executing something on yes\")\n",
    "\n",
    "def on_press(key):\n",
    "    try:\n",
    "        print('alphanumeric key {0} pressed'.format(\n",
    "            key.char))\n",
    "        if any([key in COMBO for COMBO in COMBINATIONS]):\n",
    "            print(\"YEAH HOTKEYYY\")\n",
    "        if key == keyboard.KeyCode(char='a'):\n",
    "            on_yes_press()\n",
    "\n",
    "    except AttributeError:\n",
    "        print('special key {0} pressed'.format(\n",
    "            key))\n",
    "#     Check if key is the a key == yes\n",
    "#     Check if key is the d key == no \n",
    "#     Check if key is the s key -- undo\n",
    "\n",
    "def on_release(key):\n",
    "    print('{0} released'.format(\n",
    "        key))\n",
    "    if key == keyboard.Key.esc:\n",
    "        # Stop listener\n",
    "        print(\"Stopping the listener\")\n",
    "        return False\n",
    "\n",
    "# # Collect events until released\n",
    "# with keyboard.Listener(\n",
    "#         on_press=on_press,\n",
    "#         on_release=on_release) as listener:\n",
    "#     listener.join()\n",
    "\n",
    "\n",
    "# ...or, in a non-blocking fashion:\n",
    "listener = keyboard.Listener(\n",
    "    on_press=on_press,\n",
    "    on_release=on_release)\n",
    "listener.start()\n"
   ]
  },
  {
   "cell_type": "code",
   "execution_count": null,
   "id": "c674446c",
   "metadata": {},
   "outputs": [],
   "source": [
    "pynput.keyboard.Listener.stop"
   ]
  },
  {
   "cell_type": "code",
   "execution_count": null,
   "id": "027b2b82",
   "metadata": {},
   "outputs": [],
   "source": [
    "yyadayy"
   ]
  }
 ],
 "metadata": {
  "kernelspec": {
   "display_name": "Python 3",
   "language": "python",
   "name": "python3"
  },
  "language_info": {
   "codemirror_mode": {
    "name": "ipython",
    "version": 3
   },
   "file_extension": ".py",
   "mimetype": "text/x-python",
   "name": "python",
   "nbconvert_exporter": "python",
   "pygments_lexer": "ipython3",
   "version": "3.6.15"
  }
 },
 "nbformat": 4,
 "nbformat_minor": 5
}
