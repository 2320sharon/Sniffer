{
 "cells": [
  {
   "cell_type": "code",
   "execution_count": null,
   "id": "188e6686",
   "metadata": {},
   "outputs": [],
   "source": [
    "import pynput"
   ]
  },
  {
   "cell_type": "code",
   "execution_count": null,
   "id": "563a4299",
   "metadata": {},
   "outputs": [],
   "source": []
  },
  {
   "cell_type": "code",
   "execution_count": null,
   "id": "bf83590f",
   "metadata": {},
   "outputs": [
    {
     "name": "stdout",
     "output_type": "stream",
     "text": [
      "<ctrl>+<alt>+h pressed\n",
      "<ctrl>+<alt>+h pressed\n"
     ]
    }
   ],
   "source": [
    "from pynput import keyboard\n",
    "\n",
    "def on_activate_h():\n",
    "    print('<ctrl>+<alt>+h pressed')\n",
    "\n",
    "def on_activate_i():\n",
    "    print('<ctrl>+<alt>+i pressed')\n",
    "\n",
    "listener = keyboard.GlobalHotKeys({\n",
    "        '<ctrl>+<alt>+h': on_activate_h,\n",
    "        '<ctrl>+<alt>+i': on_activate_i})\n",
    "\n",
    "listener.start()\n",
    "\n",
    "while True:\n",
    "    pass"
   ]
  },
  {
   "cell_type": "code",
   "execution_count": null,
   "id": "46d2b1bd",
   "metadata": {},
   "outputs": [],
   "source": [
    "from pynput import keyboard\n",
    "\n",
    "def on_activate():\n",
    "    print('Global hotkey activated!')\n",
    "\n",
    "def for_canonical(f):\n",
    "    return lambda k: f(l.canonical(k))\n",
    "\n",
    "hotkey = keyboard.HotKey(\n",
    "    keyboard.HotKey.parse('<ctrl>+<alt>+h'),\n",
    "    on_activate)\n",
    "with keyboard.Listener(\n",
    "        on_press=for_canonical(hotkey.press),\n",
    "        on_release=for_canonical(hotkey.release)) as l:\n",
    "    l.join()"
   ]
  },
  {
   "cell_type": "code",
   "execution_count": null,
   "id": "e4ce94f4",
   "metadata": {},
   "outputs": [],
   "source": [
    "from pynput import keyboard\n",
    "\n",
    "def on_activate_yes():\n",
    "    print('yes pressed via hotkey')\n",
    "\n",
    "def on_activate_no():\n",
    "    print('no pressed via hotkey')\n",
    "\n",
    "def on_activate_undo():\n",
    "    print('undo pressed via hotkey')    \n",
    "    \n",
    "with keyboard.GlobalHotKeys({\n",
    "        '<up>': on_activate_yes,\n",
    "        '<down>': on_activate_no,\n",
    "        '<left>': on_activate_undo}) as hotkeys:\n",
    "    hotkeys.join()\n",
    "    \n",
    "# # Collect events until released\n",
    "# with keyboard.Listener(\n",
    "#         on_press=on_press,\n",
    "#         on_release=on_release) as listener:\n",
    "#     listener.join()\n",
    "\n",
    "# # ...or, in a non-blocking fashion:\n",
    "# listener = keyboard.Listener(\n",
    "#     on_press=on_press,\n",
    "#     on_release=on_release)\n",
    "# listener.start()    \n",
    "    "
   ]
  },
  {
   "cell_type": "code",
   "execution_count": null,
   "id": "7b03d717",
   "metadata": {},
   "outputs": [],
   "source": [
    "from pynput import keyboard\n",
    "\n",
    "COMBINATIONS = [\n",
    "    {keyboard.KeyCode(char='a')}, # a == yes\n",
    "    {keyboard.KeyCode(char='d')}, # d == no\n",
    "    {keyboard.KeyCode(char='s')}, # s == undo\n",
    "]\n",
    "\n",
    "def on_yes_press():\n",
    "    print(\"executing something on yes\")\n",
    "\n",
    "def on_press(key):\n",
    "    try:\n",
    "        print(key)\n",
    "        print('alphanumeric key {0} pressed'.format(\n",
    "            key.char))\n",
    "        if any([key in COMBO for COMBO in COMBINATIONS]):\n",
    "            print(\"YEAH HOTKEYYY\")\n",
    "        if key == keyboard.KeyCode(char='a'):\n",
    "            on_yes_press()\n",
    "        if key == Key.up:\n",
    "            print(\"yessss\")\n",
    "\n",
    "    except AttributeError:\n",
    "        print('special key {0} pressed'.format(\n",
    "            key))\n",
    "#     Check if key is the a key == yes\n",
    "#     Check if key is the d key == no \n",
    "#     Check if key is the s key -- undo\n",
    "\n",
    "def on_release(key):\n",
    "    print('{0} released'.format(\n",
    "        key))\n",
    "    if key == keyboard.Key.esc:\n",
    "        # Stop listener\n",
    "        print(\"Stopping the listener\")\n",
    "        return False\n",
    "\n",
    "# # Collect events until released\n",
    "# with keyboard.Listener(\n",
    "#         on_press=on_press,\n",
    "#         on_release=on_release) as listener:\n",
    "#     listener.join()\n",
    "\n",
    "\n",
    "# ...or, in a non-blocking fashion:\n",
    "listener = keyboard.Listener(\n",
    "    on_press=on_press,\n",
    "    on_release=on_release)\n",
    "listener.start()\n"
   ]
  },
  {
   "cell_type": "code",
   "execution_count": null,
   "id": "c674446c",
   "metadata": {},
   "outputs": [],
   "source": [
    "pynput.keyboard.Listener.stop"
   ]
  },
  {
   "cell_type": "code",
   "execution_count": null,
   "id": "027b2b82",
   "metadata": {},
   "outputs": [],
   "source": [
    "yyadayy"
   ]
  }
 ],
 "metadata": {
  "kernelspec": {
   "display_name": "Python 3",
   "language": "python",
   "name": "python3"
  },
  "language_info": {
   "codemirror_mode": {
    "name": "ipython",
    "version": 3
   },
   "file_extension": ".py",
   "mimetype": "text/x-python",
   "name": "python",
   "nbconvert_exporter": "python",
   "pygments_lexer": "ipython3",
   "version": "3.6.15"
  }
 },
 "nbformat": 4,
 "nbformat_minor": 5
}
