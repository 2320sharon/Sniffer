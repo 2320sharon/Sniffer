{
 "cells": [
  {
   "cell_type": "markdown",
   "id": "5dea3f82",
   "metadata": {},
   "source": [
    "## Sniffer\n",
    "---\n",
    "\"Sniff out good and bad images in your dataset\""
   ]
  },
  {
   "cell_type": "code",
   "execution_count": null,
   "id": "31477616",
   "metadata": {
    "scrolled": true
   },
   "outputs": [],
   "source": [
    "from pynput import keyboard\n",
    "import panel as pn\n",
    "import holoviews as hv\n",
    "# import jupyter_bokeh\n",
    "\n",
    "from Sniffer import sniffer\n",
    "pn.extension(loading_spinner='dots', loading_color='#00aa41', sizing_mode=\"stretch_width\")\n",
    "\n",
    "# Make an instance of the Sniffer Class   \n",
    "sniffer_app = sniffer.SnifferClass()\n",
    "\n",
    "sniffer_app.thumbnail_button.on_click(sniffer_app.thumbnail_button_clicked)\n",
    "sniffer_app.image_button.on_click(sniffer_app.image_button_clicked)\n",
    "sniffer_app.yes_button.on_click(sniffer_app.yes_button_clicked)\n",
    "sniffer_app.no_button.on_click(sniffer_app.no_button_clicked)\n",
    "sniffer_app.undo_button.on_click(sniffer_app.undo_button_clicked)\n",
    "\n",
    "def on_activate_yes():\n",
    "    sniffer_app.yes_hotkey()\n",
    "\n",
    "def on_activate_no():\n",
    "    sniffer_app.no_hotkey()\n",
    "    \n",
    "def on_activate_undo():\n",
    "    sniffer_app.undo_hotkey()    \n",
    "\n",
    "listener = keyboard.GlobalHotKeys({\n",
    "        'a': on_activate_yes,\n",
    "        'd': on_activate_no,\n",
    "        's': on_activate_undo})\n",
    "\n",
    "listener.start()\n",
    "\n",
    "image_mode_selection=pn.Row(sniffer_app.thumbnail_button,sniffer_app.image_button,margin=(0,80))\n",
    "\n",
    "component = pn.Row(\n",
    "    pn.Column(sniffer_app.yes_button, sniffer_app.no_button, sniffer_app.undo_button, background='#b9d5f0',width=100,height=250,margin=(55,5)),\n",
    "    pn.Column(sniffer_app.get_image_index_text,sniffer_app.text,image_mode_selection,sniffer_app.get_progress_bar, sniffer_app.get_jpg_panel,background='#b9d5f0', height= 670, width=500,align='start'),\n",
    "    pn.Column(sniffer_app.radio_group,background='#b9d5f0', width=230,height=250,margin=(55,5)),\n",
    "    width=900,\n",
    "    height=700,\n",
    "    background='#6eb4f5'\n",
    "    )\n",
    "component"
   ]
  },
  {
   "cell_type": "code",
   "execution_count": null,
   "id": "0971e5bb",
   "metadata": {},
   "outputs": [],
   "source": [
    "# Creates a template that can be served with the command\n",
    "# panel serve Sniffer.ipynb from the command line\n",
    "template = pn.template.MaterialTemplate(\n",
    "    title='',\n",
    "    logo='assets/sniffer_big.jpg',\n",
    "    header_background='#b9d5f0',\n",
    "    main=[component],\n",
    ")\n",
    "template.servable();\n",
    "template"
   ]
  }
 ],
 "metadata": {
  "kernelspec": {
   "display_name": "Python 3 (ipykernel)",
   "language": "python",
   "name": "python3"
  },
  "language_info": {
   "codemirror_mode": {
    "name": "ipython",
    "version": 3
   },
   "file_extension": ".py",
   "mimetype": "text/x-python",
   "name": "python",
   "nbconvert_exporter": "python",
   "pygments_lexer": "ipython3",
   "version": "3.8.13"
  }
 },
 "nbformat": 4,
 "nbformat_minor": 5
}
